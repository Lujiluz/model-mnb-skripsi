{
 "cells": [
  {
   "cell_type": "code",
   "execution_count": 2,
   "id": "7c6cdf33-8e00-46c4-9d00-7ef8f943d4b1",
   "metadata": {},
   "outputs": [],
   "source": [
    "# import semua library yang dibutuhin\n",
    "import re\n",
    "import string\n",
    "import pandas as pd\n",
    "from Sastrawi.Stemmer.StemmerFactory import StemmerFactory\n",
    "from nltk.corpus import stopwords\n",
    "from sklearn.feature_extraction.text import TfidfVectorizer\n",
    "from sklearn.model_selection import train_test_split\n",
    "from sklearn.naive_bayes import MultinomialNB\n",
    "from sklearn.metrics import classification_report\n",
    "import nltk"
   ]
  },
  {
   "cell_type": "code",
   "execution_count": 3,
   "id": "28b9bee9-b1c2-4bcd-b2f6-7a0bbe37b51c",
   "metadata": {},
   "outputs": [
    {
     "name": "stderr",
     "output_type": "stream",
     "text": [
      "[nltk_data] Downloading package stopwords to /home/luji/nltk_data...\n",
      "[nltk_data]   Unzipping corpora/stopwords.zip.\n"
     ]
    },
    {
     "data": {
      "text/plain": [
       "True"
      ]
     },
     "execution_count": 3,
     "metadata": {},
     "output_type": "execute_result"
    }
   ],
   "source": [
    "# download stopwords dari NLTK\n",
    "nltk.download('stopwords')"
   ]
  },
  {
   "cell_type": "code",
   "execution_count": 4,
   "id": "0f924b85-b31d-4be0-9f09-6981207661f3",
   "metadata": {},
   "outputs": [],
   "source": [
    "# stemmer dan stopwords untuk bahasa Indonesia\n",
    "factory = StemmerFactory()\n",
    "stemmer = factory.create_stemmer()\n",
    "stopwords_indo = set(stopwords.words('indonesian'))\n",
    "stopwords_eng = set(stopwords.words('english'))\n",
    "stopwords_combined = stopwords_indo.union(stopwords_eng)"
   ]
  },
  {
   "cell_type": "code",
   "execution_count": 11,
   "id": "f79c62ed-18ba-4092-97b7-9d819fc83c18",
   "metadata": {},
   "outputs": [
    {
     "name": "stdout",
     "output_type": "stream",
     "text": [
      "                                              review  sentiment  \\\n",
      "0  Produk ini sangat bagus dan cepat sampai. Reco...          1   \n",
      "1  Barang jelek, rusak pas diterima. Ga sesuai ek...          0   \n",
      "2       Mantap, saya suka banget dengan kualitasnya.          1   \n",
      "3           Buruk, pengiriman lama dan barang cacat.          0   \n",
      "4                      Fast delivery, great product!          1   \n",
      "5               Pelayanan buruk dan tidak responsif.          0   \n",
      "6  pengiriman oke sih, cepet. Tapi produknya kura...          0   \n",
      "\n",
      "                                        clean_review  \n",
      "0                     produk bagus cepat recommended  \n",
      "1  barang jelek rusak pas terima ga sesuai ekspek...  \n",
      "2                        mantap suka banget kualitas  \n",
      "3                           buruk kirim barang cacat  \n",
      "4                        fast delivery great product  \n",
      "5                              layan buruk responsif  \n",
      "6                   kirim oke sih cepet produk cocok  \n"
     ]
    }
   ],
   "source": [
    "# ini function buat preprocess teks pake sastrawi\n",
    "def preprocess_text(text):\n",
    "    text = text.lower()\n",
    "    text = re.sub(r\"http\\S+|www\\S+|https\\S+\", '', text, flags=re.MULTILINE)\n",
    "    text = re.sub(r'\\d+', '', text)\n",
    "    text = text.translate(str.maketrans('', '', string.punctuation))\n",
    "    tokens = text.split()\n",
    "    tokens = [stemmer.stem(word) for word in tokens if word not in stopwords_combined]\n",
    "    return ' '.join(tokens)\n",
    "\n",
    "\n",
    "# disini kita coba testing function preprocess tadi pake sample data\n",
    "data = {\n",
    "    'review': [\n",
    "        \"Produk ini sangat bagus dan cepat sampai. Recommended!\",\n",
    "        \"Barang jelek, rusak pas diterima. Ga sesuai ekspektasi!\",\n",
    "        \"Mantap, saya suka banget dengan kualitasnya.\",\n",
    "        \"Buruk, pengiriman lama dan barang cacat.\",\n",
    "        \"Fast delivery, great product!\",\n",
    "        \"Pelayanan buruk dan tidak responsif.\",\n",
    "        \"pengiriman oke sih, cepet. Tapi produknya kurang cocok.\"\n",
    "    ],\n",
    "    'sentiment': [1, 0, 1, 0, 1, 0, 0]  # 1 = positive, 0 = negative\n",
    "}\n",
    "\n",
    "df = pd.DataFrame(data)\n",
    "df['clean_review'] = df['review'].apply(preprocess_text)\n",
    "print(df)"
   ]
  }
 ],
 "metadata": {
  "kernelspec": {
   "display_name": "Python 3 (ipykernel)",
   "language": "python",
   "name": "python3"
  },
  "language_info": {
   "codemirror_mode": {
    "name": "ipython",
    "version": 3
   },
   "file_extension": ".py",
   "mimetype": "text/x-python",
   "name": "python",
   "nbconvert_exporter": "python",
   "pygments_lexer": "ipython3",
   "version": "3.12.3"
  }
 },
 "nbformat": 4,
 "nbformat_minor": 5
}
